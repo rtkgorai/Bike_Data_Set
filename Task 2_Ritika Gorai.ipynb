{
 "cells": [
  {
   "cell_type": "markdown",
   "id": "073713e8",
   "metadata": {},
   "source": [
    "# TASK 2\n",
    "\n",
    "Please attempt the questions that follow in Python\n",
    "\n",
    "Link to the File: Python Task Dummy Data\n",
    "\n",
    "Read the csv or excel file. \n",
    "Change the datatypes of the column and check the memory usage before and after the change in the data types.\n",
    "Dump the data into the mysql database.\n",
    "index the column after the data is inserted.\n",
    "\n",
    "Note: Please make a note we are dumping the data everyday so first delete the indexing from the table and then insert the data.\n",
    "\n",
    "Submission can be a document or any IDE Notebook\n",
    "\n"
   ]
  },
  {
   "cell_type": "code",
   "execution_count": 1,
   "id": "7b3e7bb9",
   "metadata": {},
   "outputs": [],
   "source": [
    "import pandas as pd\n",
    "import numpy as np"
   ]
  },
  {
   "cell_type": "markdown",
   "id": "32cfe73e",
   "metadata": {},
   "source": [
    "# 1\n",
    "Read the csv or excel file"
   ]
  },
  {
   "cell_type": "code",
   "execution_count": 2,
   "id": "c0d1d241",
   "metadata": {},
   "outputs": [
    {
     "data": {
      "text/html": [
       "<div>\n",
       "<style scoped>\n",
       "    .dataframe tbody tr th:only-of-type {\n",
       "        vertical-align: middle;\n",
       "    }\n",
       "\n",
       "    .dataframe tbody tr th {\n",
       "        vertical-align: top;\n",
       "    }\n",
       "\n",
       "    .dataframe thead th {\n",
       "        text-align: right;\n",
       "    }\n",
       "</style>\n",
       "<table border=\"1\" class=\"dataframe\">\n",
       "  <thead>\n",
       "    <tr style=\"text-align: right;\">\n",
       "      <th></th>\n",
       "      <th>bike_name</th>\n",
       "      <th>price</th>\n",
       "      <th>city</th>\n",
       "      <th>kms_driven</th>\n",
       "      <th>owner</th>\n",
       "      <th>age</th>\n",
       "      <th>power</th>\n",
       "      <th>brand</th>\n",
       "    </tr>\n",
       "  </thead>\n",
       "  <tbody>\n",
       "    <tr>\n",
       "      <th>0</th>\n",
       "      <td>TVS Star City Plus Dual Tone 110cc</td>\n",
       "      <td>35000.0</td>\n",
       "      <td>Ahmedabad</td>\n",
       "      <td>17654.0</td>\n",
       "      <td>First Owner</td>\n",
       "      <td>3.0</td>\n",
       "      <td>110.0</td>\n",
       "      <td>TVS</td>\n",
       "    </tr>\n",
       "    <tr>\n",
       "      <th>1</th>\n",
       "      <td>Royal Enfield Classic 350cc</td>\n",
       "      <td>119900.0</td>\n",
       "      <td>Delhi</td>\n",
       "      <td>11000.0</td>\n",
       "      <td>First Owner</td>\n",
       "      <td>4.0</td>\n",
       "      <td>350.0</td>\n",
       "      <td>Royal Enfield</td>\n",
       "    </tr>\n",
       "    <tr>\n",
       "      <th>2</th>\n",
       "      <td>Triumph Daytona 675R</td>\n",
       "      <td>600000.0</td>\n",
       "      <td>Delhi</td>\n",
       "      <td>110.0</td>\n",
       "      <td>First Owner</td>\n",
       "      <td>8.0</td>\n",
       "      <td>675.0</td>\n",
       "      <td>Triumph</td>\n",
       "    </tr>\n",
       "    <tr>\n",
       "      <th>3</th>\n",
       "      <td>TVS Apache RTR 180cc</td>\n",
       "      <td>65000.0</td>\n",
       "      <td>Bangalore</td>\n",
       "      <td>16329.0</td>\n",
       "      <td>First Owner</td>\n",
       "      <td>4.0</td>\n",
       "      <td>180.0</td>\n",
       "      <td>TVS</td>\n",
       "    </tr>\n",
       "    <tr>\n",
       "      <th>4</th>\n",
       "      <td>Yamaha FZ S V 2.0 150cc-Ltd. Edition</td>\n",
       "      <td>80000.0</td>\n",
       "      <td>Bangalore</td>\n",
       "      <td>10000.0</td>\n",
       "      <td>First Owner</td>\n",
       "      <td>3.0</td>\n",
       "      <td>150.0</td>\n",
       "      <td>Yamaha</td>\n",
       "    </tr>\n",
       "    <tr>\n",
       "      <th>...</th>\n",
       "      <td>...</td>\n",
       "      <td>...</td>\n",
       "      <td>...</td>\n",
       "      <td>...</td>\n",
       "      <td>...</td>\n",
       "      <td>...</td>\n",
       "      <td>...</td>\n",
       "      <td>...</td>\n",
       "    </tr>\n",
       "    <tr>\n",
       "      <th>144</th>\n",
       "      <td>Royal Enfield Standard 350cc</td>\n",
       "      <td>115000.0</td>\n",
       "      <td>Hyderabad</td>\n",
       "      <td>14900.0</td>\n",
       "      <td>First Owner</td>\n",
       "      <td>3.0</td>\n",
       "      <td>350.0</td>\n",
       "      <td>Royal Enfield</td>\n",
       "    </tr>\n",
       "    <tr>\n",
       "      <th>145</th>\n",
       "      <td>Honda CB Shine 125cc Disc</td>\n",
       "      <td>65000.0</td>\n",
       "      <td>Mumbai</td>\n",
       "      <td>2000.0</td>\n",
       "      <td>First Owner</td>\n",
       "      <td>3.0</td>\n",
       "      <td>125.0</td>\n",
       "      <td>Honda</td>\n",
       "    </tr>\n",
       "    <tr>\n",
       "      <th>146</th>\n",
       "      <td>Honda CB Unicorn ABS 150cc</td>\n",
       "      <td>99000.0</td>\n",
       "      <td>Mumbai</td>\n",
       "      <td>4000.0</td>\n",
       "      <td>First Owner</td>\n",
       "      <td>2.0</td>\n",
       "      <td>150.0</td>\n",
       "      <td>Honda</td>\n",
       "    </tr>\n",
       "    <tr>\n",
       "      <th>147</th>\n",
       "      <td>Yamaha YZF-R15 2.0 150cc</td>\n",
       "      <td>68500.0</td>\n",
       "      <td>Delhi</td>\n",
       "      <td>68500.0</td>\n",
       "      <td>Second Owner</td>\n",
       "      <td>7.0</td>\n",
       "      <td>150.0</td>\n",
       "      <td>Yamaha</td>\n",
       "    </tr>\n",
       "    <tr>\n",
       "      <th>148</th>\n",
       "      <td>Yamaha YZF-R15 V3 150cc</td>\n",
       "      <td>140000.0</td>\n",
       "      <td>Delhi</td>\n",
       "      <td>2473.0</td>\n",
       "      <td>First Owner</td>\n",
       "      <td>2.0</td>\n",
       "      <td>150.0</td>\n",
       "      <td>Yamaha</td>\n",
       "    </tr>\n",
       "  </tbody>\n",
       "</table>\n",
       "<p>149 rows × 8 columns</p>\n",
       "</div>"
      ],
      "text/plain": [
       "                                bike_name     price       city  kms_driven  \\\n",
       "0      TVS Star City Plus Dual Tone 110cc   35000.0  Ahmedabad     17654.0   \n",
       "1             Royal Enfield Classic 350cc  119900.0      Delhi     11000.0   \n",
       "2                    Triumph Daytona 675R  600000.0      Delhi       110.0   \n",
       "3                    TVS Apache RTR 180cc   65000.0  Bangalore     16329.0   \n",
       "4    Yamaha FZ S V 2.0 150cc-Ltd. Edition   80000.0  Bangalore     10000.0   \n",
       "..                                    ...       ...        ...         ...   \n",
       "144          Royal Enfield Standard 350cc  115000.0  Hyderabad     14900.0   \n",
       "145             Honda CB Shine 125cc Disc   65000.0     Mumbai      2000.0   \n",
       "146            Honda CB Unicorn ABS 150cc   99000.0     Mumbai      4000.0   \n",
       "147              Yamaha YZF-R15 2.0 150cc   68500.0      Delhi     68500.0   \n",
       "148               Yamaha YZF-R15 V3 150cc  140000.0      Delhi      2473.0   \n",
       "\n",
       "            owner  age  power          brand  \n",
       "0     First Owner  3.0  110.0            TVS  \n",
       "1     First Owner  4.0  350.0  Royal Enfield  \n",
       "2     First Owner  8.0  675.0        Triumph  \n",
       "3     First Owner  4.0  180.0            TVS  \n",
       "4     First Owner  3.0  150.0         Yamaha  \n",
       "..            ...  ...    ...            ...  \n",
       "144   First Owner  3.0  350.0  Royal Enfield  \n",
       "145   First Owner  3.0  125.0          Honda  \n",
       "146   First Owner  2.0  150.0          Honda  \n",
       "147  Second Owner  7.0  150.0         Yamaha  \n",
       "148   First Owner  2.0  150.0         Yamaha  \n",
       "\n",
       "[149 rows x 8 columns]"
      ]
     },
     "execution_count": 2,
     "metadata": {},
     "output_type": "execute_result"
    }
   ],
   "source": [
    "data_rg=pd.read_csv('used_bikes.csv')\n",
    "data_rg"
   ]
  },
  {
   "cell_type": "code",
   "execution_count": 3,
   "id": "e68ac48e",
   "metadata": {},
   "outputs": [
    {
     "data": {
      "text/plain": [
       "1192"
      ]
     },
     "execution_count": 3,
     "metadata": {},
     "output_type": "execute_result"
    }
   ],
   "source": [
    "data_rg.size"
   ]
  },
  {
   "cell_type": "code",
   "execution_count": 4,
   "id": "a7cf3936",
   "metadata": {},
   "outputs": [
    {
     "data": {
      "text/plain": [
       "(149, 8)"
      ]
     },
     "execution_count": 4,
     "metadata": {},
     "output_type": "execute_result"
    }
   ],
   "source": [
    "data_rg.shape"
   ]
  },
  {
   "cell_type": "markdown",
   "id": "15598423",
   "metadata": {},
   "source": [
    "# 2\n",
    "Change the datatypes of the column and check the memory usage before and after the change in the data types"
   ]
  },
  {
   "cell_type": "code",
   "execution_count": 5,
   "id": "895f452c",
   "metadata": {},
   "outputs": [
    {
     "data": {
      "text/html": [
       "<div>\n",
       "<style scoped>\n",
       "    .dataframe tbody tr th:only-of-type {\n",
       "        vertical-align: middle;\n",
       "    }\n",
       "\n",
       "    .dataframe tbody tr th {\n",
       "        vertical-align: top;\n",
       "    }\n",
       "\n",
       "    .dataframe thead th {\n",
       "        text-align: right;\n",
       "    }\n",
       "</style>\n",
       "<table border=\"1\" class=\"dataframe\">\n",
       "  <thead>\n",
       "    <tr style=\"text-align: right;\">\n",
       "      <th></th>\n",
       "      <th>price</th>\n",
       "      <th>kms_driven</th>\n",
       "      <th>age</th>\n",
       "      <th>power</th>\n",
       "    </tr>\n",
       "  </thead>\n",
       "  <tbody>\n",
       "    <tr>\n",
       "      <th>count</th>\n",
       "      <td>1.490000e+02</td>\n",
       "      <td>149.000000</td>\n",
       "      <td>149.000000</td>\n",
       "      <td>149.000000</td>\n",
       "    </tr>\n",
       "    <tr>\n",
       "      <th>mean</th>\n",
       "      <td>1.163103e+05</td>\n",
       "      <td>23799.644295</td>\n",
       "      <td>5.469799</td>\n",
       "      <td>261.671141</td>\n",
       "    </tr>\n",
       "    <tr>\n",
       "      <th>std</th>\n",
       "      <td>1.729468e+05</td>\n",
       "      <td>34311.863035</td>\n",
       "      <td>2.788870</td>\n",
       "      <td>189.247494</td>\n",
       "    </tr>\n",
       "    <tr>\n",
       "      <th>min</th>\n",
       "      <td>1.110000e+04</td>\n",
       "      <td>3.000000</td>\n",
       "      <td>1.000000</td>\n",
       "      <td>100.000000</td>\n",
       "    </tr>\n",
       "    <tr>\n",
       "      <th>25%</th>\n",
       "      <td>4.500000e+04</td>\n",
       "      <td>9900.000000</td>\n",
       "      <td>3.000000</td>\n",
       "      <td>150.000000</td>\n",
       "    </tr>\n",
       "    <tr>\n",
       "      <th>50%</th>\n",
       "      <td>7.000000e+04</td>\n",
       "      <td>17500.000000</td>\n",
       "      <td>5.000000</td>\n",
       "      <td>200.000000</td>\n",
       "    </tr>\n",
       "    <tr>\n",
       "      <th>75%</th>\n",
       "      <td>1.071000e+05</td>\n",
       "      <td>29305.000000</td>\n",
       "      <td>7.000000</td>\n",
       "      <td>350.000000</td>\n",
       "    </tr>\n",
       "    <tr>\n",
       "      <th>max</th>\n",
       "      <td>1.350000e+06</td>\n",
       "      <td>357000.000000</td>\n",
       "      <td>16.000000</td>\n",
       "      <td>1299.000000</td>\n",
       "    </tr>\n",
       "  </tbody>\n",
       "</table>\n",
       "</div>"
      ],
      "text/plain": [
       "              price     kms_driven         age        power\n",
       "count  1.490000e+02     149.000000  149.000000   149.000000\n",
       "mean   1.163103e+05   23799.644295    5.469799   261.671141\n",
       "std    1.729468e+05   34311.863035    2.788870   189.247494\n",
       "min    1.110000e+04       3.000000    1.000000   100.000000\n",
       "25%    4.500000e+04    9900.000000    3.000000   150.000000\n",
       "50%    7.000000e+04   17500.000000    5.000000   200.000000\n",
       "75%    1.071000e+05   29305.000000    7.000000   350.000000\n",
       "max    1.350000e+06  357000.000000   16.000000  1299.000000"
      ]
     },
     "execution_count": 5,
     "metadata": {},
     "output_type": "execute_result"
    }
   ],
   "source": [
    "data_rg.describe()"
   ]
  },
  {
   "cell_type": "code",
   "execution_count": 6,
   "id": "3e4a765a",
   "metadata": {},
   "outputs": [
    {
     "name": "stdout",
     "output_type": "stream",
     "text": [
      "<class 'pandas.core.frame.DataFrame'>\n",
      "RangeIndex: 149 entries, 0 to 148\n",
      "Data columns (total 8 columns):\n",
      " #   Column      Non-Null Count  Dtype  \n",
      "---  ------      --------------  -----  \n",
      " 0   bike_name   149 non-null    object \n",
      " 1   price       149 non-null    float64\n",
      " 2   city        149 non-null    object \n",
      " 3   kms_driven  149 non-null    float64\n",
      " 4   owner       149 non-null    object \n",
      " 5   age         149 non-null    float64\n",
      " 6   power       149 non-null    float64\n",
      " 7   brand       149 non-null    object \n",
      "dtypes: float64(4), object(4)\n",
      "memory usage: 9.4+ KB\n"
     ]
    }
   ],
   "source": [
    "data_rg.info()"
   ]
  },
  {
   "cell_type": "code",
   "execution_count": 7,
   "id": "59cba6bd",
   "metadata": {},
   "outputs": [
    {
     "data": {
      "text/plain": [
       "Index          132\n",
       "bike_name     1192\n",
       "price         1192\n",
       "city          1192\n",
       "kms_driven    1192\n",
       "owner         1192\n",
       "age           1192\n",
       "power         1192\n",
       "brand         1192\n",
       "dtype: int64"
      ]
     },
     "execution_count": 7,
     "metadata": {},
     "output_type": "execute_result"
    }
   ],
   "source": [
    "data_rg.memory_usage(index=True)"
   ]
  },
  {
   "cell_type": "code",
   "execution_count": 8,
   "id": "fc0467a3",
   "metadata": {},
   "outputs": [
    {
     "name": "stdout",
     "output_type": "stream",
     "text": [
      "<class 'pandas.core.frame.DataFrame'>\n",
      "RangeIndex: 149 entries, 0 to 148\n",
      "Data columns (total 8 columns):\n",
      " #   Column      Non-Null Count  Dtype  \n",
      "---  ------      --------------  -----  \n",
      " 0   bike_name   149 non-null    object \n",
      " 1   price       149 non-null    float64\n",
      " 2   city        149 non-null    object \n",
      " 3   kms_driven  149 non-null    float64\n",
      " 4   owner       149 non-null    object \n",
      " 5   age         149 non-null    float64\n",
      " 6   power       149 non-null    float64\n",
      " 7   brand       149 non-null    object \n",
      "dtypes: float64(4), object(4)\n",
      "memory usage: 45.0 KB\n"
     ]
    }
   ],
   "source": [
    "data_rg.info(memory_usage=\"deep\")"
   ]
  },
  {
   "cell_type": "code",
   "execution_count": 9,
   "id": "2227dc8a",
   "metadata": {},
   "outputs": [],
   "source": [
    "# datatype used in dataset are float64 and object"
   ]
  },
  {
   "cell_type": "code",
   "execution_count": 10,
   "id": "75348238",
   "metadata": {},
   "outputs": [],
   "source": [
    "#analysing float64 datatpe column"
   ]
  },
  {
   "cell_type": "code",
   "execution_count": 11,
   "id": "73d7ece3",
   "metadata": {},
   "outputs": [
    {
     "data": {
      "text/html": [
       "<div>\n",
       "<style scoped>\n",
       "    .dataframe tbody tr th:only-of-type {\n",
       "        vertical-align: middle;\n",
       "    }\n",
       "\n",
       "    .dataframe tbody tr th {\n",
       "        vertical-align: top;\n",
       "    }\n",
       "\n",
       "    .dataframe thead th {\n",
       "        text-align: right;\n",
       "    }\n",
       "</style>\n",
       "<table border=\"1\" class=\"dataframe\">\n",
       "  <thead>\n",
       "    <tr style=\"text-align: right;\">\n",
       "      <th></th>\n",
       "      <th>price</th>\n",
       "      <th>kms_driven</th>\n",
       "      <th>age</th>\n",
       "      <th>power</th>\n",
       "    </tr>\n",
       "  </thead>\n",
       "  <tbody>\n",
       "    <tr>\n",
       "      <th>0</th>\n",
       "      <td>35000.0</td>\n",
       "      <td>17654.0</td>\n",
       "      <td>3.0</td>\n",
       "      <td>110.0</td>\n",
       "    </tr>\n",
       "    <tr>\n",
       "      <th>1</th>\n",
       "      <td>119900.0</td>\n",
       "      <td>11000.0</td>\n",
       "      <td>4.0</td>\n",
       "      <td>350.0</td>\n",
       "    </tr>\n",
       "    <tr>\n",
       "      <th>2</th>\n",
       "      <td>600000.0</td>\n",
       "      <td>110.0</td>\n",
       "      <td>8.0</td>\n",
       "      <td>675.0</td>\n",
       "    </tr>\n",
       "    <tr>\n",
       "      <th>3</th>\n",
       "      <td>65000.0</td>\n",
       "      <td>16329.0</td>\n",
       "      <td>4.0</td>\n",
       "      <td>180.0</td>\n",
       "    </tr>\n",
       "    <tr>\n",
       "      <th>4</th>\n",
       "      <td>80000.0</td>\n",
       "      <td>10000.0</td>\n",
       "      <td>3.0</td>\n",
       "      <td>150.0</td>\n",
       "    </tr>\n",
       "    <tr>\n",
       "      <th>...</th>\n",
       "      <td>...</td>\n",
       "      <td>...</td>\n",
       "      <td>...</td>\n",
       "      <td>...</td>\n",
       "    </tr>\n",
       "    <tr>\n",
       "      <th>144</th>\n",
       "      <td>115000.0</td>\n",
       "      <td>14900.0</td>\n",
       "      <td>3.0</td>\n",
       "      <td>350.0</td>\n",
       "    </tr>\n",
       "    <tr>\n",
       "      <th>145</th>\n",
       "      <td>65000.0</td>\n",
       "      <td>2000.0</td>\n",
       "      <td>3.0</td>\n",
       "      <td>125.0</td>\n",
       "    </tr>\n",
       "    <tr>\n",
       "      <th>146</th>\n",
       "      <td>99000.0</td>\n",
       "      <td>4000.0</td>\n",
       "      <td>2.0</td>\n",
       "      <td>150.0</td>\n",
       "    </tr>\n",
       "    <tr>\n",
       "      <th>147</th>\n",
       "      <td>68500.0</td>\n",
       "      <td>68500.0</td>\n",
       "      <td>7.0</td>\n",
       "      <td>150.0</td>\n",
       "    </tr>\n",
       "    <tr>\n",
       "      <th>148</th>\n",
       "      <td>140000.0</td>\n",
       "      <td>2473.0</td>\n",
       "      <td>2.0</td>\n",
       "      <td>150.0</td>\n",
       "    </tr>\n",
       "  </tbody>\n",
       "</table>\n",
       "<p>149 rows × 4 columns</p>\n",
       "</div>"
      ],
      "text/plain": [
       "        price  kms_driven  age  power\n",
       "0     35000.0     17654.0  3.0  110.0\n",
       "1    119900.0     11000.0  4.0  350.0\n",
       "2    600000.0       110.0  8.0  675.0\n",
       "3     65000.0     16329.0  4.0  180.0\n",
       "4     80000.0     10000.0  3.0  150.0\n",
       "..        ...         ...  ...    ...\n",
       "144  115000.0     14900.0  3.0  350.0\n",
       "145   65000.0      2000.0  3.0  125.0\n",
       "146   99000.0      4000.0  2.0  150.0\n",
       "147   68500.0     68500.0  7.0  150.0\n",
       "148  140000.0      2473.0  2.0  150.0\n",
       "\n",
       "[149 rows x 4 columns]"
      ]
     },
     "execution_count": 11,
     "metadata": {},
     "output_type": "execute_result"
    }
   ],
   "source": [
    "data_rg_float=data_rg.select_dtypes(include=['float64'])#data containing the float64\n",
    "data_rg_float"
   ]
  },
  {
   "cell_type": "code",
   "execution_count": 12,
   "id": "db7cc3a1",
   "metadata": {},
   "outputs": [
    {
     "data": {
      "text/html": [
       "<div>\n",
       "<style scoped>\n",
       "    .dataframe tbody tr th:only-of-type {\n",
       "        vertical-align: middle;\n",
       "    }\n",
       "\n",
       "    .dataframe tbody tr th {\n",
       "        vertical-align: top;\n",
       "    }\n",
       "\n",
       "    .dataframe thead th {\n",
       "        text-align: right;\n",
       "    }\n",
       "</style>\n",
       "<table border=\"1\" class=\"dataframe\">\n",
       "  <thead>\n",
       "    <tr style=\"text-align: right;\">\n",
       "      <th></th>\n",
       "      <th>price</th>\n",
       "      <th>kms_driven</th>\n",
       "      <th>age</th>\n",
       "      <th>power</th>\n",
       "    </tr>\n",
       "  </thead>\n",
       "  <tbody>\n",
       "    <tr>\n",
       "      <th>count</th>\n",
       "      <td>1.490000e+02</td>\n",
       "      <td>149.000000</td>\n",
       "      <td>149.000000</td>\n",
       "      <td>149.000000</td>\n",
       "    </tr>\n",
       "    <tr>\n",
       "      <th>mean</th>\n",
       "      <td>1.163103e+05</td>\n",
       "      <td>23799.644295</td>\n",
       "      <td>5.469799</td>\n",
       "      <td>261.671141</td>\n",
       "    </tr>\n",
       "    <tr>\n",
       "      <th>std</th>\n",
       "      <td>1.729468e+05</td>\n",
       "      <td>34311.863035</td>\n",
       "      <td>2.788870</td>\n",
       "      <td>189.247494</td>\n",
       "    </tr>\n",
       "    <tr>\n",
       "      <th>min</th>\n",
       "      <td>1.110000e+04</td>\n",
       "      <td>3.000000</td>\n",
       "      <td>1.000000</td>\n",
       "      <td>100.000000</td>\n",
       "    </tr>\n",
       "    <tr>\n",
       "      <th>25%</th>\n",
       "      <td>4.500000e+04</td>\n",
       "      <td>9900.000000</td>\n",
       "      <td>3.000000</td>\n",
       "      <td>150.000000</td>\n",
       "    </tr>\n",
       "    <tr>\n",
       "      <th>50%</th>\n",
       "      <td>7.000000e+04</td>\n",
       "      <td>17500.000000</td>\n",
       "      <td>5.000000</td>\n",
       "      <td>200.000000</td>\n",
       "    </tr>\n",
       "    <tr>\n",
       "      <th>75%</th>\n",
       "      <td>1.071000e+05</td>\n",
       "      <td>29305.000000</td>\n",
       "      <td>7.000000</td>\n",
       "      <td>350.000000</td>\n",
       "    </tr>\n",
       "    <tr>\n",
       "      <th>max</th>\n",
       "      <td>1.350000e+06</td>\n",
       "      <td>357000.000000</td>\n",
       "      <td>16.000000</td>\n",
       "      <td>1299.000000</td>\n",
       "    </tr>\n",
       "  </tbody>\n",
       "</table>\n",
       "</div>"
      ],
      "text/plain": [
       "              price     kms_driven         age        power\n",
       "count  1.490000e+02     149.000000  149.000000   149.000000\n",
       "mean   1.163103e+05   23799.644295    5.469799   261.671141\n",
       "std    1.729468e+05   34311.863035    2.788870   189.247494\n",
       "min    1.110000e+04       3.000000    1.000000   100.000000\n",
       "25%    4.500000e+04    9900.000000    3.000000   150.000000\n",
       "50%    7.000000e+04   17500.000000    5.000000   200.000000\n",
       "75%    1.071000e+05   29305.000000    7.000000   350.000000\n",
       "max    1.350000e+06  357000.000000   16.000000  1299.000000"
      ]
     },
     "execution_count": 12,
     "metadata": {},
     "output_type": "execute_result"
    }
   ],
   "source": [
    "data_rg_float.describe()"
   ]
  },
  {
   "cell_type": "code",
   "execution_count": 13,
   "id": "432a5f93",
   "metadata": {},
   "outputs": [
    {
     "data": {
      "text/plain": [
       "1350000.0"
      ]
     },
     "execution_count": 13,
     "metadata": {},
     "output_type": "execute_result"
    }
   ],
   "source": [
    "data_rg_float['price'].max()"
   ]
  },
  {
   "cell_type": "code",
   "execution_count": 14,
   "id": "26ebb432",
   "metadata": {},
   "outputs": [
    {
     "data": {
      "text/plain": [
       "357000.0"
      ]
     },
     "execution_count": 14,
     "metadata": {},
     "output_type": "execute_result"
    }
   ],
   "source": [
    "data_rg_float['kms_driven'].max()"
   ]
  },
  {
   "cell_type": "code",
   "execution_count": 15,
   "id": "67f6ca0d",
   "metadata": {},
   "outputs": [
    {
     "data": {
      "text/plain": [
       "16.0"
      ]
     },
     "execution_count": 15,
     "metadata": {},
     "output_type": "execute_result"
    }
   ],
   "source": [
    "data_rg_float['age'].max()"
   ]
  },
  {
   "cell_type": "code",
   "execution_count": 16,
   "id": "00308580",
   "metadata": {},
   "outputs": [
    {
     "data": {
      "text/plain": [
       "1299.0"
      ]
     },
     "execution_count": 16,
     "metadata": {},
     "output_type": "execute_result"
    }
   ],
   "source": [
    "data_rg_float['power'].max()"
   ]
  },
  {
   "cell_type": "code",
   "execution_count": 17,
   "id": "516791ff",
   "metadata": {},
   "outputs": [],
   "source": [
    "#changing float64 to float32"
   ]
  },
  {
   "cell_type": "code",
   "execution_count": 18,
   "id": "26529938",
   "metadata": {},
   "outputs": [],
   "source": [
    "data_rg['age'] = data_rg['age'].astype('float32')\n",
    "data_rg['power'] = data_rg['power'].astype('float32')\n",
    "data_rg['price'] = data_rg['price'].astype('float32')\n",
    "data_rg['kms_driven'] = data_rg['kms_driven'].astype('float32')"
   ]
  },
  {
   "cell_type": "code",
   "execution_count": 19,
   "id": "6dd74fd9",
   "metadata": {},
   "outputs": [
    {
     "name": "stdout",
     "output_type": "stream",
     "text": [
      "<class 'pandas.core.frame.DataFrame'>\n",
      "RangeIndex: 149 entries, 0 to 148\n",
      "Data columns (total 8 columns):\n",
      " #   Column      Non-Null Count  Dtype  \n",
      "---  ------      --------------  -----  \n",
      " 0   bike_name   149 non-null    object \n",
      " 1   price       149 non-null    float32\n",
      " 2   city        149 non-null    object \n",
      " 3   kms_driven  149 non-null    float32\n",
      " 4   owner       149 non-null    object \n",
      " 5   age         149 non-null    float32\n",
      " 6   power       149 non-null    float32\n",
      " 7   brand       149 non-null    object \n",
      "dtypes: float32(4), object(4)\n",
      "memory usage: 7.1+ KB\n"
     ]
    }
   ],
   "source": [
    "data_rg.info()"
   ]
  },
  {
   "cell_type": "code",
   "execution_count": 20,
   "id": "8874b5e2",
   "metadata": {},
   "outputs": [
    {
     "data": {
      "text/plain": [
       "Index          132\n",
       "bike_name     1192\n",
       "price          596\n",
       "city          1192\n",
       "kms_driven     596\n",
       "owner         1192\n",
       "age            596\n",
       "power          596\n",
       "brand         1192\n",
       "dtype: int64"
      ]
     },
     "execution_count": 20,
     "metadata": {},
     "output_type": "execute_result"
    }
   ],
   "source": [
    "data_rg.memory_usage()"
   ]
  },
  {
   "cell_type": "code",
   "execution_count": 21,
   "id": "d05fb8a6",
   "metadata": {},
   "outputs": [
    {
     "name": "stdout",
     "output_type": "stream",
     "text": [
      "<class 'pandas.core.frame.DataFrame'>\n",
      "RangeIndex: 149 entries, 0 to 148\n",
      "Data columns (total 8 columns):\n",
      " #   Column      Non-Null Count  Dtype  \n",
      "---  ------      --------------  -----  \n",
      " 0   bike_name   149 non-null    object \n",
      " 1   price       149 non-null    float32\n",
      " 2   city        149 non-null    object \n",
      " 3   kms_driven  149 non-null    float32\n",
      " 4   owner       149 non-null    object \n",
      " 5   age         149 non-null    float32\n",
      " 6   power       149 non-null    float32\n",
      " 7   brand       149 non-null    object \n",
      "dtypes: float32(4), object(4)\n",
      "memory usage: 42.7 KB\n"
     ]
    }
   ],
   "source": [
    "data_rg.info(memory_usage=\"deep\")"
   ]
  },
  {
   "cell_type": "code",
   "execution_count": 22,
   "id": "b3440cc0",
   "metadata": {},
   "outputs": [
    {
     "data": {
      "text/plain": [
       "Index         132\n",
       "price         596\n",
       "kms_driven    596\n",
       "age           596\n",
       "power         596\n",
       "dtype: int64"
      ]
     },
     "execution_count": 22,
     "metadata": {},
     "output_type": "execute_result"
    }
   ],
   "source": [
    "data_rg.select_dtypes(include=['float32']).memory_usage()"
   ]
  },
  {
   "cell_type": "code",
   "execution_count": 23,
   "id": "392a19d0",
   "metadata": {},
   "outputs": [],
   "source": [
    "#convert float64 to float16 "
   ]
  },
  {
   "cell_type": "code",
   "execution_count": 24,
   "id": "2e2c689f",
   "metadata": {},
   "outputs": [],
   "source": [
    "data_rg['age'] = data_rg['age'].astype('float16')\n",
    "data_rg['power'] = data_rg['power'].astype('float16')\n",
    "data_rg['price'] = data_rg['price'].astype('float32')# error overflow encountered in cast\n",
    "data_rg['kms_driven'] = data_rg['kms_driven'].astype('float32')# error overflow encountered in cast"
   ]
  },
  {
   "cell_type": "code",
   "execution_count": 25,
   "id": "1b82ef48",
   "metadata": {},
   "outputs": [
    {
     "name": "stdout",
     "output_type": "stream",
     "text": [
      "<class 'pandas.core.frame.DataFrame'>\n",
      "RangeIndex: 149 entries, 0 to 148\n",
      "Data columns (total 8 columns):\n",
      " #   Column      Non-Null Count  Dtype  \n",
      "---  ------      --------------  -----  \n",
      " 0   bike_name   149 non-null    object \n",
      " 1   price       149 non-null    float32\n",
      " 2   city        149 non-null    object \n",
      " 3   kms_driven  149 non-null    float32\n",
      " 4   owner       149 non-null    object \n",
      " 5   age         149 non-null    float16\n",
      " 6   power       149 non-null    float16\n",
      " 7   brand       149 non-null    object \n",
      "dtypes: float16(2), float32(2), object(4)\n",
      "memory usage: 6.5+ KB\n"
     ]
    }
   ],
   "source": [
    "data_rg.info()"
   ]
  },
  {
   "cell_type": "code",
   "execution_count": 26,
   "id": "cfad485f",
   "metadata": {},
   "outputs": [
    {
     "data": {
      "text/plain": [
       "Index          132\n",
       "bike_name     1192\n",
       "price          596\n",
       "city          1192\n",
       "kms_driven     596\n",
       "owner         1192\n",
       "age            298\n",
       "power          298\n",
       "brand         1192\n",
       "dtype: int64"
      ]
     },
     "execution_count": 26,
     "metadata": {},
     "output_type": "execute_result"
    }
   ],
   "source": [
    "data_rg.memory_usage()"
   ]
  },
  {
   "cell_type": "code",
   "execution_count": 27,
   "id": "229024f6",
   "metadata": {},
   "outputs": [
    {
     "name": "stdout",
     "output_type": "stream",
     "text": [
      "<class 'pandas.core.frame.DataFrame'>\n",
      "RangeIndex: 149 entries, 0 to 148\n",
      "Data columns (total 8 columns):\n",
      " #   Column      Non-Null Count  Dtype  \n",
      "---  ------      --------------  -----  \n",
      " 0   bike_name   149 non-null    object \n",
      " 1   price       149 non-null    float32\n",
      " 2   city        149 non-null    object \n",
      " 3   kms_driven  149 non-null    float32\n",
      " 4   owner       149 non-null    object \n",
      " 5   age         149 non-null    float16\n",
      " 6   power       149 non-null    float16\n",
      " 7   brand       149 non-null    object \n",
      "dtypes: float16(2), float32(2), object(4)\n",
      "memory usage: 42.1 KB\n"
     ]
    }
   ],
   "source": [
    "data_rg.info(memory_usage=\"deep\")"
   ]
  },
  {
   "cell_type": "code",
   "execution_count": 28,
   "id": "1b6c647e",
   "metadata": {},
   "outputs": [
    {
     "data": {
      "text/plain": [
       "Index         132\n",
       "price         596\n",
       "kms_driven    596\n",
       "age           298\n",
       "power         298\n",
       "dtype: int64"
      ]
     },
     "execution_count": 28,
     "metadata": {},
     "output_type": "execute_result"
    }
   ],
   "source": [
    "data_rg.select_dtypes(include=['float64','float16','float32']).memory_usage()"
   ]
  },
  {
   "cell_type": "code",
   "execution_count": 29,
   "id": "c0eeef4c",
   "metadata": {},
   "outputs": [],
   "source": [
    "#convert float to int"
   ]
  },
  {
   "cell_type": "code",
   "execution_count": 30,
   "id": "4b351149",
   "metadata": {},
   "outputs": [],
   "source": [
    "data_rg['age'] = data_rg['age'].astype('int8')\n",
    "data_rg['power'] = data_rg['power'].astype('int16')\n",
    "data_rg['price'] = data_rg['price'].astype('int32')\n",
    "data_rg['kms_driven'] = data_rg['kms_driven'].astype('int32')"
   ]
  },
  {
   "cell_type": "code",
   "execution_count": 31,
   "id": "72838a79",
   "metadata": {},
   "outputs": [
    {
     "name": "stdout",
     "output_type": "stream",
     "text": [
      "<class 'pandas.core.frame.DataFrame'>\n",
      "RangeIndex: 149 entries, 0 to 148\n",
      "Data columns (total 8 columns):\n",
      " #   Column      Non-Null Count  Dtype \n",
      "---  ------      --------------  ----- \n",
      " 0   bike_name   149 non-null    object\n",
      " 1   price       149 non-null    int32 \n",
      " 2   city        149 non-null    object\n",
      " 3   kms_driven  149 non-null    int32 \n",
      " 4   owner       149 non-null    object\n",
      " 5   age         149 non-null    int8  \n",
      " 6   power       149 non-null    int16 \n",
      " 7   brand       149 non-null    object\n",
      "dtypes: int16(1), int32(2), int8(1), object(4)\n",
      "memory usage: 6.4+ KB\n"
     ]
    }
   ],
   "source": [
    "data_rg.info()"
   ]
  },
  {
   "cell_type": "code",
   "execution_count": 32,
   "id": "b0f1e0b3",
   "metadata": {},
   "outputs": [
    {
     "data": {
      "text/plain": [
       "Index          132\n",
       "bike_name     1192\n",
       "price          596\n",
       "city          1192\n",
       "kms_driven     596\n",
       "owner         1192\n",
       "age            149\n",
       "power          298\n",
       "brand         1192\n",
       "dtype: int64"
      ]
     },
     "execution_count": 32,
     "metadata": {},
     "output_type": "execute_result"
    }
   ],
   "source": [
    "data_rg.memory_usage()"
   ]
  },
  {
   "cell_type": "code",
   "execution_count": 33,
   "id": "33e85fef",
   "metadata": {},
   "outputs": [
    {
     "name": "stdout",
     "output_type": "stream",
     "text": [
      "<class 'pandas.core.frame.DataFrame'>\n",
      "RangeIndex: 149 entries, 0 to 148\n",
      "Data columns (total 8 columns):\n",
      " #   Column      Non-Null Count  Dtype \n",
      "---  ------      --------------  ----- \n",
      " 0   bike_name   149 non-null    object\n",
      " 1   price       149 non-null    int32 \n",
      " 2   city        149 non-null    object\n",
      " 3   kms_driven  149 non-null    int32 \n",
      " 4   owner       149 non-null    object\n",
      " 5   age         149 non-null    int8  \n",
      " 6   power       149 non-null    int16 \n",
      " 7   brand       149 non-null    object\n",
      "dtypes: int16(1), int32(2), int8(1), object(4)\n",
      "memory usage: 41.9 KB\n"
     ]
    }
   ],
   "source": [
    "data_rg.info(memory_usage=\"deep\")"
   ]
  },
  {
   "cell_type": "code",
   "execution_count": 34,
   "id": "2eb71e1f",
   "metadata": {},
   "outputs": [
    {
     "data": {
      "text/plain": [
       "Index         132\n",
       "price         596\n",
       "kms_driven    596\n",
       "age           149\n",
       "power         298\n",
       "dtype: int64"
      ]
     },
     "execution_count": 34,
     "metadata": {},
     "output_type": "execute_result"
    }
   ],
   "source": [
    "data_rg.select_dtypes(include=['int8','int16','int32']).memory_usage()"
   ]
  },
  {
   "cell_type": "code",
   "execution_count": 35,
   "id": "2dac167e",
   "metadata": {},
   "outputs": [],
   "source": [
    "#analysing object datatpe column"
   ]
  },
  {
   "cell_type": "code",
   "execution_count": 36,
   "id": "3986a4d8",
   "metadata": {},
   "outputs": [
    {
     "data": {
      "text/html": [
       "<div>\n",
       "<style scoped>\n",
       "    .dataframe tbody tr th:only-of-type {\n",
       "        vertical-align: middle;\n",
       "    }\n",
       "\n",
       "    .dataframe tbody tr th {\n",
       "        vertical-align: top;\n",
       "    }\n",
       "\n",
       "    .dataframe thead th {\n",
       "        text-align: right;\n",
       "    }\n",
       "</style>\n",
       "<table border=\"1\" class=\"dataframe\">\n",
       "  <thead>\n",
       "    <tr style=\"text-align: right;\">\n",
       "      <th></th>\n",
       "      <th>bike_name</th>\n",
       "      <th>city</th>\n",
       "      <th>owner</th>\n",
       "      <th>brand</th>\n",
       "    </tr>\n",
       "  </thead>\n",
       "  <tbody>\n",
       "    <tr>\n",
       "      <th>0</th>\n",
       "      <td>TVS Star City Plus Dual Tone 110cc</td>\n",
       "      <td>Ahmedabad</td>\n",
       "      <td>First Owner</td>\n",
       "      <td>TVS</td>\n",
       "    </tr>\n",
       "    <tr>\n",
       "      <th>1</th>\n",
       "      <td>Royal Enfield Classic 350cc</td>\n",
       "      <td>Delhi</td>\n",
       "      <td>First Owner</td>\n",
       "      <td>Royal Enfield</td>\n",
       "    </tr>\n",
       "    <tr>\n",
       "      <th>2</th>\n",
       "      <td>Triumph Daytona 675R</td>\n",
       "      <td>Delhi</td>\n",
       "      <td>First Owner</td>\n",
       "      <td>Triumph</td>\n",
       "    </tr>\n",
       "    <tr>\n",
       "      <th>3</th>\n",
       "      <td>TVS Apache RTR 180cc</td>\n",
       "      <td>Bangalore</td>\n",
       "      <td>First Owner</td>\n",
       "      <td>TVS</td>\n",
       "    </tr>\n",
       "    <tr>\n",
       "      <th>4</th>\n",
       "      <td>Yamaha FZ S V 2.0 150cc-Ltd. Edition</td>\n",
       "      <td>Bangalore</td>\n",
       "      <td>First Owner</td>\n",
       "      <td>Yamaha</td>\n",
       "    </tr>\n",
       "    <tr>\n",
       "      <th>...</th>\n",
       "      <td>...</td>\n",
       "      <td>...</td>\n",
       "      <td>...</td>\n",
       "      <td>...</td>\n",
       "    </tr>\n",
       "    <tr>\n",
       "      <th>144</th>\n",
       "      <td>Royal Enfield Standard 350cc</td>\n",
       "      <td>Hyderabad</td>\n",
       "      <td>First Owner</td>\n",
       "      <td>Royal Enfield</td>\n",
       "    </tr>\n",
       "    <tr>\n",
       "      <th>145</th>\n",
       "      <td>Honda CB Shine 125cc Disc</td>\n",
       "      <td>Mumbai</td>\n",
       "      <td>First Owner</td>\n",
       "      <td>Honda</td>\n",
       "    </tr>\n",
       "    <tr>\n",
       "      <th>146</th>\n",
       "      <td>Honda CB Unicorn ABS 150cc</td>\n",
       "      <td>Mumbai</td>\n",
       "      <td>First Owner</td>\n",
       "      <td>Honda</td>\n",
       "    </tr>\n",
       "    <tr>\n",
       "      <th>147</th>\n",
       "      <td>Yamaha YZF-R15 2.0 150cc</td>\n",
       "      <td>Delhi</td>\n",
       "      <td>Second Owner</td>\n",
       "      <td>Yamaha</td>\n",
       "    </tr>\n",
       "    <tr>\n",
       "      <th>148</th>\n",
       "      <td>Yamaha YZF-R15 V3 150cc</td>\n",
       "      <td>Delhi</td>\n",
       "      <td>First Owner</td>\n",
       "      <td>Yamaha</td>\n",
       "    </tr>\n",
       "  </tbody>\n",
       "</table>\n",
       "<p>149 rows × 4 columns</p>\n",
       "</div>"
      ],
      "text/plain": [
       "                                bike_name       city         owner  \\\n",
       "0      TVS Star City Plus Dual Tone 110cc  Ahmedabad   First Owner   \n",
       "1             Royal Enfield Classic 350cc      Delhi   First Owner   \n",
       "2                    Triumph Daytona 675R      Delhi   First Owner   \n",
       "3                    TVS Apache RTR 180cc  Bangalore   First Owner   \n",
       "4    Yamaha FZ S V 2.0 150cc-Ltd. Edition  Bangalore   First Owner   \n",
       "..                                    ...        ...           ...   \n",
       "144          Royal Enfield Standard 350cc  Hyderabad   First Owner   \n",
       "145             Honda CB Shine 125cc Disc     Mumbai   First Owner   \n",
       "146            Honda CB Unicorn ABS 150cc     Mumbai   First Owner   \n",
       "147              Yamaha YZF-R15 2.0 150cc      Delhi  Second Owner   \n",
       "148               Yamaha YZF-R15 V3 150cc      Delhi   First Owner   \n",
       "\n",
       "             brand  \n",
       "0              TVS  \n",
       "1    Royal Enfield  \n",
       "2          Triumph  \n",
       "3              TVS  \n",
       "4           Yamaha  \n",
       "..             ...  \n",
       "144  Royal Enfield  \n",
       "145          Honda  \n",
       "146          Honda  \n",
       "147         Yamaha  \n",
       "148         Yamaha  \n",
       "\n",
       "[149 rows x 4 columns]"
      ]
     },
     "execution_count": 36,
     "metadata": {},
     "output_type": "execute_result"
    }
   ],
   "source": [
    "data_rg_object=data_rg.select_dtypes(include=['object'])#data containing the object datatype\n",
    "data_rg_object"
   ]
  },
  {
   "cell_type": "code",
   "execution_count": 37,
   "id": "1983fe1c",
   "metadata": {},
   "outputs": [
    {
     "data": {
      "text/plain": [
       "Index         132\n",
       "bike_name    1192\n",
       "city         1192\n",
       "owner        1192\n",
       "brand        1192\n",
       "dtype: int64"
      ]
     },
     "execution_count": 37,
     "metadata": {},
     "output_type": "execute_result"
    }
   ],
   "source": [
    "data_rg_object.select_dtypes(include=['object']).memory_usage()"
   ]
  },
  {
   "cell_type": "code",
   "execution_count": 38,
   "id": "08b86190",
   "metadata": {},
   "outputs": [
    {
     "data": {
      "text/plain": [
       "39"
      ]
     },
     "execution_count": 38,
     "metadata": {},
     "output_type": "execute_result"
    }
   ],
   "source": [
    "data_rg_object['city'].nunique()"
   ]
  },
  {
   "cell_type": "code",
   "execution_count": 39,
   "id": "18ce0e44",
   "metadata": {},
   "outputs": [
    {
     "data": {
      "text/plain": [
       "3"
      ]
     },
     "execution_count": 39,
     "metadata": {},
     "output_type": "execute_result"
    }
   ],
   "source": [
    "data_rg_object['owner'].nunique()"
   ]
  },
  {
   "cell_type": "code",
   "execution_count": 40,
   "id": "c798501d",
   "metadata": {},
   "outputs": [
    {
     "data": {
      "text/plain": [
       "15"
      ]
     },
     "execution_count": 40,
     "metadata": {},
     "output_type": "execute_result"
    }
   ],
   "source": [
    "data_rg_object['brand'].nunique()"
   ]
  },
  {
   "cell_type": "code",
   "execution_count": 41,
   "id": "f25aa8fd",
   "metadata": {},
   "outputs": [
    {
     "data": {
      "text/plain": [
       "94"
      ]
     },
     "execution_count": 41,
     "metadata": {},
     "output_type": "execute_result"
    }
   ],
   "source": [
    "data_rg_object['bike_name'].nunique()"
   ]
  },
  {
   "cell_type": "code",
   "execution_count": 42,
   "id": "23621133",
   "metadata": {},
   "outputs": [],
   "source": [
    "#converting to category type"
   ]
  },
  {
   "cell_type": "code",
   "execution_count": 43,
   "id": "f46337ca",
   "metadata": {},
   "outputs": [],
   "source": [
    "data_rg['city'] = data_rg['city'].astype('category')\n",
    "data_rg['owner'] = data_rg['owner'].astype('category')\n",
    "data_rg['brand'] =data_rg['brand'].astype('category')\n",
    "data_rg['bike_name'] = data_rg['bike_name'].astype('category')"
   ]
  },
  {
   "cell_type": "code",
   "execution_count": 44,
   "id": "c7117261",
   "metadata": {},
   "outputs": [
    {
     "name": "stdout",
     "output_type": "stream",
     "text": [
      "<class 'pandas.core.frame.DataFrame'>\n",
      "RangeIndex: 149 entries, 0 to 148\n",
      "Data columns (total 8 columns):\n",
      " #   Column      Non-Null Count  Dtype   \n",
      "---  ------      --------------  -----   \n",
      " 0   bike_name   149 non-null    category\n",
      " 1   price       149 non-null    int32   \n",
      " 2   city        149 non-null    category\n",
      " 3   kms_driven  149 non-null    int32   \n",
      " 4   owner       149 non-null    category\n",
      " 5   age         149 non-null    int8    \n",
      " 6   power       149 non-null    int16   \n",
      " 7   brand       149 non-null    category\n",
      "dtypes: category(4), int16(1), int32(2), int8(1)\n",
      "memory usage: 7.2 KB\n"
     ]
    }
   ],
   "source": [
    "data_rg.info()"
   ]
  },
  {
   "cell_type": "code",
   "execution_count": 45,
   "id": "226843db",
   "metadata": {},
   "outputs": [
    {
     "data": {
      "text/plain": [
       "Index          132\n",
       "bike_name     3005\n",
       "price          596\n",
       "city          1533\n",
       "kms_driven     596\n",
       "owner          281\n",
       "age            149\n",
       "power          298\n",
       "brand          825\n",
       "dtype: int64"
      ]
     },
     "execution_count": 45,
     "metadata": {},
     "output_type": "execute_result"
    }
   ],
   "source": [
    "data_rg.memory_usage()"
   ]
  },
  {
   "cell_type": "code",
   "execution_count": 46,
   "id": "33da49a6",
   "metadata": {},
   "outputs": [
    {
     "name": "stdout",
     "output_type": "stream",
     "text": [
      "<class 'pandas.core.frame.DataFrame'>\n",
      "RangeIndex: 149 entries, 0 to 148\n",
      "Data columns (total 8 columns):\n",
      " #   Column      Non-Null Count  Dtype   \n",
      "---  ------      --------------  -----   \n",
      " 0   bike_name   149 non-null    category\n",
      " 1   price       149 non-null    int32   \n",
      " 2   city        149 non-null    category\n",
      " 3   kms_driven  149 non-null    int32   \n",
      " 4   owner       149 non-null    category\n",
      " 5   age         149 non-null    int8    \n",
      " 6   power       149 non-null    int16   \n",
      " 7   brand       149 non-null    category\n",
      "dtypes: category(4), int16(1), int32(2), int8(1)\n",
      "memory usage: 17.0 KB\n"
     ]
    }
   ],
   "source": [
    "data_rg.info(memory_usage=\"deep\")"
   ]
  },
  {
   "cell_type": "code",
   "execution_count": 47,
   "id": "1ae1885b",
   "metadata": {},
   "outputs": [],
   "source": [
    "#"
   ]
  },
  {
   "cell_type": "code",
   "execution_count": 48,
   "id": "043b6039",
   "metadata": {},
   "outputs": [],
   "source": [
    "#final data type and memory size"
   ]
  },
  {
   "cell_type": "code",
   "execution_count": 49,
   "id": "2f08a2a6",
   "metadata": {},
   "outputs": [
    {
     "name": "stdout",
     "output_type": "stream",
     "text": [
      "<class 'pandas.core.frame.DataFrame'>\n",
      "RangeIndex: 149 entries, 0 to 148\n",
      "Data columns (total 8 columns):\n",
      " #   Column      Non-Null Count  Dtype   \n",
      "---  ------      --------------  -----   \n",
      " 0   bike_name   149 non-null    category\n",
      " 1   price       149 non-null    int32   \n",
      " 2   city        149 non-null    category\n",
      " 3   kms_driven  149 non-null    int32   \n",
      " 4   owner       149 non-null    category\n",
      " 5   age         149 non-null    int8    \n",
      " 6   power       149 non-null    int16   \n",
      " 7   brand       149 non-null    category\n",
      "dtypes: category(4), int16(1), int32(2), int8(1)\n",
      "memory usage: 7.2 KB\n"
     ]
    }
   ],
   "source": [
    "data_rg.info()"
   ]
  },
  {
   "cell_type": "code",
   "execution_count": 50,
   "id": "ce618cd6",
   "metadata": {},
   "outputs": [
    {
     "name": "stdout",
     "output_type": "stream",
     "text": [
      "<class 'pandas.core.frame.DataFrame'>\n",
      "RangeIndex: 149 entries, 0 to 148\n",
      "Data columns (total 8 columns):\n",
      " #   Column      Non-Null Count  Dtype   \n",
      "---  ------      --------------  -----   \n",
      " 0   bike_name   149 non-null    category\n",
      " 1   price       149 non-null    int32   \n",
      " 2   city        149 non-null    category\n",
      " 3   kms_driven  149 non-null    int32   \n",
      " 4   owner       149 non-null    category\n",
      " 5   age         149 non-null    int8    \n",
      " 6   power       149 non-null    int16   \n",
      " 7   brand       149 non-null    category\n",
      "dtypes: category(4), int16(1), int32(2), int8(1)\n",
      "memory usage: 17.0 KB\n"
     ]
    }
   ],
   "source": [
    "data_rg.info(memory_usage=\"deep\")"
   ]
  },
  {
   "cell_type": "code",
   "execution_count": 51,
   "id": "74d4a000",
   "metadata": {},
   "outputs": [
    {
     "data": {
      "text/plain": [
       "'Overall memory has been decrease from 9.4 Kb to 7.2 Kb and With deep memory introspection memory has been decrease from 45.0 Kb to 17.0 Kb'"
      ]
     },
     "execution_count": 51,
     "metadata": {},
     "output_type": "execute_result"
    }
   ],
   "source": [
    "'''Overall memory has been decrease from 9.4 Kb to 7.2 Kb and With deep memory introspection memory has been decrease from 45.0 Kb to 17.0 Kb'''"
   ]
  },
  {
   "cell_type": "code",
   "execution_count": 52,
   "id": "520fbb74",
   "metadata": {},
   "outputs": [],
   "source": [
    "#Changing int datatype to float datatype again as there is little reduction of memory usage"
   ]
  },
  {
   "cell_type": "code",
   "execution_count": 53,
   "id": "cbe80df1",
   "metadata": {},
   "outputs": [],
   "source": [
    "data_rg['age'] = data_rg['age'].astype('float16')\n",
    "data_rg['power'] = data_rg['power'].astype('float16')\n",
    "data_rg['price'] = data_rg['price'].astype('float32')\n",
    "data_rg['kms_driven'] = data_rg['kms_driven'].astype('float32')"
   ]
  },
  {
   "cell_type": "code",
   "execution_count": 54,
   "id": "2ddb3e28",
   "metadata": {},
   "outputs": [],
   "source": [
    "#final data type(float) and memory size"
   ]
  },
  {
   "cell_type": "code",
   "execution_count": 55,
   "id": "de528913",
   "metadata": {},
   "outputs": [
    {
     "name": "stdout",
     "output_type": "stream",
     "text": [
      "<class 'pandas.core.frame.DataFrame'>\n",
      "RangeIndex: 149 entries, 0 to 148\n",
      "Data columns (total 8 columns):\n",
      " #   Column      Non-Null Count  Dtype   \n",
      "---  ------      --------------  -----   \n",
      " 0   bike_name   149 non-null    category\n",
      " 1   price       149 non-null    float32 \n",
      " 2   city        149 non-null    category\n",
      " 3   kms_driven  149 non-null    float32 \n",
      " 4   owner       149 non-null    category\n",
      " 5   age         149 non-null    float16 \n",
      " 6   power       149 non-null    float16 \n",
      " 7   brand       149 non-null    category\n",
      "dtypes: category(4), float16(2), float32(2)\n",
      "memory usage: 7.4 KB\n"
     ]
    }
   ],
   "source": [
    "data_rg.info()"
   ]
  },
  {
   "cell_type": "code",
   "execution_count": 56,
   "id": "3b34ff73",
   "metadata": {},
   "outputs": [
    {
     "name": "stdout",
     "output_type": "stream",
     "text": [
      "<class 'pandas.core.frame.DataFrame'>\n",
      "RangeIndex: 149 entries, 0 to 148\n",
      "Data columns (total 8 columns):\n",
      " #   Column      Non-Null Count  Dtype   \n",
      "---  ------      --------------  -----   \n",
      " 0   bike_name   149 non-null    category\n",
      " 1   price       149 non-null    float32 \n",
      " 2   city        149 non-null    category\n",
      " 3   kms_driven  149 non-null    float32 \n",
      " 4   owner       149 non-null    category\n",
      " 5   age         149 non-null    float16 \n",
      " 6   power       149 non-null    float16 \n",
      " 7   brand       149 non-null    category\n",
      "dtypes: category(4), float16(2), float32(2)\n",
      "memory usage: 17.2 KB\n"
     ]
    }
   ],
   "source": [
    "data_rg.info(memory_usage=\"deep\")"
   ]
  },
  {
   "cell_type": "code",
   "execution_count": 57,
   "id": "0367ea13",
   "metadata": {},
   "outputs": [
    {
     "data": {
      "text/plain": [
       "'Overall memory has been decrease from 9.4 Kb to 7.4 Kb and With deep memory introspection memory has been decrease from 45.0 Kb to 17.2 Kb'"
      ]
     },
     "execution_count": 57,
     "metadata": {},
     "output_type": "execute_result"
    }
   ],
   "source": [
    "'''Overall memory has been decrease from 9.4 Kb to 7.4 Kb and With deep memory introspection memory has been decrease from 45.0 Kb to 17.2 Kb'''"
   ]
  },
  {
   "cell_type": "code",
   "execution_count": 58,
   "id": "f875a480",
   "metadata": {},
   "outputs": [
    {
     "data": {
      "text/plain": [
       "'Converting the Object type to Category type for columns with very low cardinality is bettercolumns like bike_name and city here in this example have increased the memory size on conversion to category type - high cardinalitywhile the column owner have reduced it size to 1/4 and the brand column have reduced a little'"
      ]
     },
     "execution_count": 58,
     "metadata": {},
     "output_type": "execute_result"
    }
   ],
   "source": [
    "#Obsevations:\n",
    "'''Converting the Object type to Category type for columns with very low cardinality is bettercolumns like bike_name and city here in this example have increased the memory size on conversion to category type - high cardinalitywhile the column owner have reduced it size to 1/4 and the brand column have reduced a little'''"
   ]
  },
  {
   "cell_type": "markdown",
   "id": "a45ba346",
   "metadata": {},
   "source": [
    "# 3\n",
    "Dump the data into the mysql database."
   ]
  },
  {
   "cell_type": "code",
   "execution_count": 2,
   "id": "dfe99a7a",
   "metadata": {},
   "outputs": [],
   "source": [
    "import mysql.connector"
   ]
  },
  {
   "cell_type": "code",
   "execution_count": 4,
   "id": "0af54956",
   "metadata": {},
   "outputs": [],
   "source": [
    "conn_db_rg=mysql.connector.connect(\n",
    "    host=\"localhost\",\n",
    "    user=\"Ritika\",\n",
    "    password=\"ritika16\",\n",
    "    database=\"db_bike\"\n",
    ")"
   ]
  },
  {
   "cell_type": "code",
   "execution_count": 61,
   "id": "49615487",
   "metadata": {},
   "outputs": [],
   "source": [
    "cursor=conn_db_rg.cursor()"
   ]
  },
  {
   "cell_type": "code",
   "execution_count": 62,
   "id": "a777e523",
   "metadata": {},
   "outputs": [],
   "source": [
    "create_table_query='''\n",
    "CREATE TABLE use_bike_rg (\n",
    "    bike_name varchar(200),\n",
    "    price FLOAT(10, 2),\n",
    "    city varchar(50),\n",
    "    kms_driven FLOAT(10, 2),\n",
    "    owner varchar(100),\n",
    "    age FLOAT(10, 2),\n",
    "    power FLOAT(10, 2),\n",
    "    brand varchar(50)\n",
    ")\n",
    "'''"
   ]
  },
  {
   "cell_type": "code",
   "execution_count": 63,
   "id": "c7591bb0",
   "metadata": {},
   "outputs": [],
   "source": [
    "cursor.execute(create_table_query)"
   ]
  },
  {
   "cell_type": "code",
   "execution_count": 64,
   "id": "6a47342d",
   "metadata": {},
   "outputs": [],
   "source": [
    "drop_index_query='''\n",
    "DROP INDEX used_bike_index ON use_bike_rg\n",
    "'''\n",
    "cursor.execute(drop_index_query)\n",
    "conn_db_rg.commit()"
   ]
  },
  {
   "cell_type": "code",
   "execution_count": 65,
   "id": "2e8b96e9",
   "metadata": {},
   "outputs": [],
   "source": [
    "insert_query='''\n",
    "INSERT INTO use_bike_rg (bike_name,price,city,kms_driven,owner,age,power,brand)\n",
    "VALUES ('TVS Star City Plus Dual Tone 110cc',35000, 'Ahmedabad',17654,'First Owner',3,110,'TVS')\n",
    "'''"
   ]
  },
  {
   "cell_type": "code",
   "execution_count": 66,
   "id": "38c65195",
   "metadata": {},
   "outputs": [],
   "source": [
    "cursor.execute(insert_query)"
   ]
  },
  {
   "cell_type": "markdown",
   "id": "a4c20167",
   "metadata": {},
   "source": [
    "# 4\n",
    "index the column after the data is inserted.\n"
   ]
  },
  {
   "cell_type": "code",
   "execution_count": 67,
   "id": "d8deff36",
   "metadata": {},
   "outputs": [],
   "source": [
    "load_data_query = '''\n",
    "LOAD DATA INFILE 'used_bikes.csv'\n",
    "INTO TABLE use_bike_rg\n",
    "FIELDS TERMINATED BY ',' \n",
    "ENCLOSED BY '\"'\n",
    "LINES TERMINATED BY '\\n'\n",
    "IGNORE 2 LINES\n",
    "'''"
   ]
  },
  {
   "cell_type": "code",
   "execution_count": 68,
   "id": "f4d827e8",
   "metadata": {},
   "outputs": [],
   "source": [
    "cursor.execute(load_data_query)"
   ]
  },
  {
   "cell_type": "code",
   "execution_count": 69,
   "id": "ccc21039",
   "metadata": {},
   "outputs": [],
   "source": [
    "create_index_query='''\n",
    "CREATE INDEX used_bikename_index ON use_bike_rg(bike_name)\n",
    "'''"
   ]
  },
  {
   "cell_type": "code",
   "execution_count": 70,
   "id": "8461a153",
   "metadata": {},
   "outputs": [],
   "source": [
    "cursor.execute(create_index_query)"
   ]
  },
  {
   "cell_type": "code",
   "execution_count": 71,
   "id": "8c58d54a",
   "metadata": {},
   "outputs": [],
   "source": [
    "create_index_query2='''\n",
    "CREATE INDEX used_pr_index ON use_bike_rg(price)\n",
    "'''"
   ]
  },
  {
   "cell_type": "code",
   "execution_count": 72,
   "id": "4543250e",
   "metadata": {},
   "outputs": [],
   "source": [
    "cursor.execute(create_index_query2)"
   ]
  },
  {
   "cell_type": "code",
   "execution_count": 73,
   "id": "ba94ff88",
   "metadata": {},
   "outputs": [],
   "source": [
    "create_index_query3='''\n",
    "CREATE INDEX used_ciy_index ON use_bike_rg(city)\n",
    "'''"
   ]
  },
  {
   "cell_type": "code",
   "execution_count": 74,
   "id": "683566a9",
   "metadata": {},
   "outputs": [],
   "source": [
    "cursor.execute(create_index_query3)"
   ]
  },
  {
   "cell_type": "code",
   "execution_count": 75,
   "id": "ea66e7a9",
   "metadata": {},
   "outputs": [],
   "source": [
    "create_index_query4='''\n",
    "CREATE INDEX used_km_index ON use_bike_rg(kms_driven)\n",
    "'''"
   ]
  },
  {
   "cell_type": "code",
   "execution_count": 76,
   "id": "3b320d69",
   "metadata": {},
   "outputs": [],
   "source": [
    "cursor.execute(create_index_query4)"
   ]
  },
  {
   "cell_type": "code",
   "execution_count": 77,
   "id": "3dd0bbd3",
   "metadata": {},
   "outputs": [],
   "source": [
    "create_index_query5='''\n",
    "CREATE INDEX used_own_index ON use_bike_rg(owner)\n",
    "'''"
   ]
  },
  {
   "cell_type": "code",
   "execution_count": 78,
   "id": "bb923a96",
   "metadata": {},
   "outputs": [],
   "source": [
    "cursor.execute(create_index_query5)"
   ]
  },
  {
   "cell_type": "code",
   "execution_count": 79,
   "id": "ef6276ae",
   "metadata": {},
   "outputs": [],
   "source": [
    "create_index_query6='''\n",
    "CREATE INDEX used_ag_index ON use_bike_rg(age)\n",
    "'''"
   ]
  },
  {
   "cell_type": "code",
   "execution_count": 80,
   "id": "2c672f4b",
   "metadata": {},
   "outputs": [],
   "source": [
    "cursor.execute(create_index_query6)"
   ]
  },
  {
   "cell_type": "code",
   "execution_count": 81,
   "id": "7a24b680",
   "metadata": {},
   "outputs": [],
   "source": [
    "create_index_query7='''\n",
    "CREATE INDEX used_pow_index ON use_bike_rg(power)\n",
    "'''"
   ]
  },
  {
   "cell_type": "code",
   "execution_count": 82,
   "id": "57c7fe8d",
   "metadata": {},
   "outputs": [],
   "source": [
    "cursor.execute(create_index_query7)"
   ]
  },
  {
   "cell_type": "code",
   "execution_count": 83,
   "id": "93b5b0cc",
   "metadata": {},
   "outputs": [],
   "source": [
    "create_index_query8='''\n",
    "CREATE INDEX used_br_index ON use_bike_rg(brand)\n",
    "'''"
   ]
  },
  {
   "cell_type": "code",
   "execution_count": 84,
   "id": "cc3f08a6",
   "metadata": {},
   "outputs": [],
   "source": [
    "cursor.execute(create_index_query8)"
   ]
  },
  {
   "cell_type": "code",
   "execution_count": 85,
   "id": "37b8f7a5",
   "metadata": {},
   "outputs": [],
   "source": [
    "conn_db_rg.commit()"
   ]
  },
  {
   "cell_type": "code",
   "execution_count": 86,
   "id": "ee463810",
   "metadata": {},
   "outputs": [
    {
     "data": {
      "text/plain": [
       "True"
      ]
     },
     "execution_count": 86,
     "metadata": {},
     "output_type": "execute_result"
    }
   ],
   "source": [
    "cursor.close()"
   ]
  },
  {
   "cell_type": "code",
   "execution_count": 87,
   "id": "043d3909",
   "metadata": {},
   "outputs": [],
   "source": [
    "conn_db_rg.close()"
   ]
  },
  {
   "cell_type": "code",
   "execution_count": null,
   "id": "c364d40d",
   "metadata": {},
   "outputs": [],
   "source": []
  }
 ],
 "metadata": {
  "kernelspec": {
   "display_name": "Python 3 (ipykernel)",
   "language": "python",
   "name": "python3"
  },
  "language_info": {
   "codemirror_mode": {
    "name": "ipython",
    "version": 3
   },
   "file_extension": ".py",
   "mimetype": "text/x-python",
   "name": "python",
   "nbconvert_exporter": "python",
   "pygments_lexer": "ipython3",
   "version": "3.11.3"
  }
 },
 "nbformat": 4,
 "nbformat_minor": 5
}
